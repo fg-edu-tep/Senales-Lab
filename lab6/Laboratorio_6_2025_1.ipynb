{
  "cells": [
    {
      "cell_type": "markdown",
      "metadata": {
        "id": "0ielL1COADyN"
      },
      "source": [
        "# Introducción a Serie de Fourier\n",
        "\n",
        "## Integrantes\n",
        "\n",
        "####################################\n",
        "\n",
        "####################################"
      ]
    },
    {
      "cell_type": "markdown",
      "metadata": {
        "id": "f--VwG8zA4tu"
      },
      "source": [
        "### **Punto 1:** "
      ]
    },
    {
      "cell_type": "code",
      "execution_count": null,
      "metadata": {
        "id": "IMer3zWOA7YX"
      },
      "outputs": [],
      "source": [
        "import numpy as np\n",
        "import matplotlib.pyplot as plt\n",
        "\n",
        "# Parámetros de la señal triangular\n",
        "amplitud =\n",
        "periodo =\n",
        "duracion = 100.0\n",
        "\n",
        "# Generar la señal triangular\n",
        "t = np.linspace(0, duracion, int(duracion))\n",
        "triangular_signal =\n",
        "\n",
        "# Graficar la señal triangular\n",
        "plt.plot(t, triangular_signal)\n",
        "plt.xlabel('Tiempo')\n",
        "plt.ylabel('Amplitud')\n",
        "plt.title('Señal Triangular')\n",
        "plt.show()\n",
        "\n"
      ]
    },
    {
      "cell_type": "markdown",
      "metadata": {
        "id": "pEJlRAWeA_9L"
      },
      "source": [
        "### **Punto 2:** "
      ]
    },
    {
      "cell_type": "code",
      "execution_count": null,
      "metadata": {
        "id": "3M0w636sA8eP"
      },
      "outputs": [],
      "source": [
        "import numpy as np\n",
        "import matplotlib.pyplot as plt\n",
        "from scipy.fft import fft, fftfreq, ifft\n",
        "\n",
        "# Parámetros de la señal triangular\n",
        "amplitud = 1.0\n",
        "periodo = 10.0\n",
        "duracion = 100.0\n",
        "num_muestras =   # Ajustamos el número de muestras\n",
        "\n",
        "# Generar la señal triangular\n",
        "t = np.linspace(0, duracion, num_muestras)\n",
        "triangular_signal = amplitud * (2 * (t / periodo - np.floor(0.5 + t / periodo)))\n",
        "\n",
        "# Calcular los coeficientes de la serie de Fourier\n",
        "coeficientes = #complete para calcular los coeficientes y divida sobre el núemro de muestras\n",
        "frecuencias =   #los parámetros son num_muestras y duracion/num_muestras\n",
        "\n",
        "# Reconstruir la señal utilizando los coeficientes de Fourier\n",
        "reconstructed_signal = np.real(ifft(coeficientes) * num_muestras)\n",
        "\n",
        "# Graficar la señal original, los coeficientes y la reconstrucción\n",
        "fig, (ax1, ax2, ax3) = plt.subplots(3, 1, figsize=(8, 9))\n",
        "\n",
        "# Graficar la señal triangular\n",
        "ax1.plot(t, triangular_signal)\n",
        "ax1.set_xlabel('Tiempo')\n",
        "ax1.set_ylabel('Amplitud')\n",
        "ax1.set_title('Señal Triangular')\n",
        "\n",
        "# Graficar los coeficientes de la serie de Fourier\n",
        "ax2.stem(frecuencias, np.abs(coeficientes))\n",
        "ax2.set_xlabel('Frecuencia')\n",
        "ax2.set_ylabel('Amplitud')\n",
        "ax2.set_title('Coeficientes de Fourier')\n",
        "\n",
        "# Graficar la reconstrucción de la señal\n",
        "ax3.plot(t, reconstructed_signal)\n",
        "ax3.set_xlabel('Tiempo')\n",
        "ax3.set_ylabel('Amplitud')\n",
        "ax3.set_title('Reconstrucción de la Señal')\n",
        "\n",
        "plt.tight_layout()\n",
        "plt.show()\n",
        "\n",
        "\n"
      ]
    },
    {
      "cell_type": "markdown",
      "metadata": {
        "id": "L4Sx3xyZBHGF"
      },
      "source": [
        "### **Punto 3:** "
      ]
    },
    {
      "cell_type": "code",
      "execution_count": null,
      "metadata": {
        "id": "4r0NN_wJlx5_"
      },
      "outputs": [],
      "source": [
        "import numpy as np\n",
        "import matplotlib.pyplot as plt\n",
        "\n",
        "# Definir la señal original\n",
        "def x(t):\n",
        "    return amplitud * (2 * (t / periodo - np.floor(0.5 + t / periodo)))\n",
        "\n",
        "# Función para calcular los coeficientes de la serie de Fourier\n",
        "def calcular_coeficientes_serie_fourier(x, T, N):\n",
        "    w0 = 2 * np.pi / T\n",
        "    ak = np.zeros(N, dtype=complex)\n",
        "\n",
        "    for k in range(N):\n",
        "        fun = lambda t: #colocar aqui la ecuación de un armónico\n",
        "        ak[k] = (1 / T) * np.trapz([fun(t) for t in np.linspace(0, T, 1000)], dx=T/1000)\n",
        "\n",
        "    return ak\n",
        "\n",
        "# Función para reconstruir la señal utilizando los coeficientes de la serie de Fourier\n",
        "def reconstruir_senal(ak, T, N, t):\n",
        "    w0 = 2 * np.pi / T\n",
        "    x_t = np.zeros_like(t, dtype=complex)  # Usar dtype complex\n",
        "\n",
        "    for k in range(N):\n",
        "        x_t += #colocar aqui la ecuación\n",
        "\n",
        "    return x_t.real  # Tomamos la parte real al final\n",
        "\n",
        "# Parámetros de la señal y número de coeficientes a calcular\n",
        "T = 10\n",
        "N = 1000  # Número de coeficientes de la serie de Fourier\n",
        "t = np.linspace(0, T, 1000)  # Vector de tiempo para la reconstrucción\n",
        "\n",
        "# Calcular los coeficientes de la serie de Fourier\n",
        "ak = calcular_coeficientes_serie_fourier(x, T, N)\n",
        "\n",
        "# Reconstruir la señal utilizando los coeficientes calculados\n",
        "x_reconstruida = reconstruir_senal(ak, T, N, t)\n",
        "\n",
        "# Graficar la señal original y la señal reconstruida\n",
        "plt.figure(figsize=(10, 5))\n",
        "plt.subplot(2, 1, 1)\n",
        "plt.plot(t, x(t), label='Señal Original')\n",
        "plt.xlabel('Tiempo')\n",
        "plt.ylabel('Amplitud')\n",
        "plt.legend()\n",
        "\n",
        "plt.subplot(2, 1, 2)\n",
        "plt.plot(t, x_reconstruida, label='Señal Reconstruida', color='orange')\n",
        "plt.xlabel('Tiempo')\n",
        "plt.ylabel('Amplitud')\n",
        "plt.legend()\n",
        "\n",
        "\n",
        "plt.tight_layout()\n",
        "plt.show()\n"
      ]
    },
    {
      "cell_type": "markdown",
      "metadata": {
        "id": "M_C7Jf4ZI6IL"
      },
      "source": [
        "### **Punto 4:** "
      ]
    },
    {
      "cell_type": "code",
      "execution_count": null,
      "metadata": {
        "id": "kNiZMUwcJfX8"
      },
      "outputs": [],
      "source": [
        "\n",
        "# Parámetros de la señal y número de coeficientes a calcular\n",
        "T = 10\n",
        "Ns =  # Número de coeficientes de la serie de Fourier\n",
        "t = np.linspace(0, T, 1000)  # Vector de tiempo para la reconstrucción\n",
        "\n",
        "# Calcular los coeficientes de la serie de Fourier\n",
        "for : #complete el for para que la variable N recorra Ns\n",
        "  ak = #calcule los coeficientes ak para cada N usando la funcion calcular_coeficientes_serie_fourier\n",
        "\n",
        "  # Reconstruir la señal utilizando los coeficientes calculados\n",
        "  x_reconstruida = reconstruir_senal(ak, T, N, t)\n",
        "\n",
        "  # Graficar la señal original y la señal reconstruida\n",
        "  plt.figure(figsize=(10, 5))\n",
        "  plt.subplot(2, 1, 1)\n",
        "  plt.plot(t, x(t), label=f'Señal Original N={N}')\n",
        "  plt.xlabel('Tiempo')\n",
        "  plt.ylabel('Amplitud')\n",
        "  plt.legend()\n",
        "\n",
        "  plt.subplot(2, 1, 2)\n",
        "  plt.plot(t, x_reconstruida, label=f'Señal Reconstruida N={N}', color='orange')\n",
        "  plt.xlabel('Tiempo')\n",
        "  plt.ylabel('Amplitud')\n",
        "  plt.legend()\n",
        "\n",
        "\n",
        "  plt.tight_layout()\n",
        "  plt.show()\n",
        "\n"
      ]
    },
    {
      "cell_type": "markdown",
      "metadata": {
        "id": "cdjTnsGmJibs"
      },
      "source": [
        "### **Punto 5:** "
      ]
    },
    {
      "cell_type": "code",
      "execution_count": null,
      "metadata": {
        "id": "aFKlRoZGJfsE"
      },
      "outputs": [],
      "source": []
    }
  ],
  "metadata": {
    "colab": {
      "provenance": []
    },
    "kernelspec": {
      "display_name": "Python 3",
      "name": "python3"
    },
    "language_info": {
      "name": "python"
    }
  },
  "nbformat": 4,
  "nbformat_minor": 0
}
