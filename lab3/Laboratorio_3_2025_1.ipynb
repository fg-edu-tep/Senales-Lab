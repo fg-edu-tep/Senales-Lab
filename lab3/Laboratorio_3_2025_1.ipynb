{
  "cells": [
    {
      "cell_type": "markdown",
      "metadata": {},
      "source": [
        "# Laboratorio 4\n",
        "\n",
        "Integrantes:\n",
        "\n",
        "######################################\n",
        "\n",
        "######################################\n",
        "\n"
      ]
    },
    {
      "cell_type": "markdown",
      "metadata": {
        "id": "pUi6cZzV5HVV"
      },
      "source": [
        "## Causalidad y Memoria"
      ]
    },
    {
      "cell_type": "markdown",
      "metadata": {
        "id": "zLozepgmMLJQ"
      },
      "source": [
        "### Punto 1: Promedio móvil"
      ]
    },
    {
      "cell_type": "code",
      "execution_count": null,
      "metadata": {
        "id": "xxXocqv1MOpA"
      },
      "outputs": [],
      "source": [
        "def moving_average(sequence, window_size):\n",
        "    if window_size <= 0 or window_size > len(sequence):\n",
        "        raise ValueError(\"Window size is invalid.\")\n",
        "    averages = []\n",
        "    for i in range(window_size, len(sequence)):\n",
        "        average = (sequence[i] + sequence[i-1] + sequence[i-2]) / 3\n",
        "        averages.append(average)\n",
        "    return averages\n",
        "\n",
        "\n",
        "# Ejemplo de uso\n",
        "numbers = [1, 2, 3, 4, 5, 6, 7, 8, 9, 10]\n",
        "averages = moving_average(numbers, 3)\n",
        "print(averages)\n",
        "\n"
      ]
    },
    {
      "cell_type": "markdown",
      "metadata": {
        "id": "daN8X8W6MQIV"
      },
      "source": [
        "**Ingrese aquí su respuesta al punto 1**"
      ]
    },
    {
      "cell_type": "markdown",
      "metadata": {
        "id": "FD0NC9P8MoEx"
      },
      "source": [
        "### Punto 2: Sistema amplificador"
      ]
    },
    {
      "cell_type": "code",
      "execution_count": null,
      "metadata": {
        "id": "qCZKX70ZMnf9"
      },
      "outputs": [],
      "source": [
        "import numpy as np\n",
        "import matplotlib.pyplot as plt\n",
        "\n",
        "def generate_sine_wave(duration, frequency):\n",
        "    time = np.linspace(0, duration, num=1000)\n",
        "    amplitude = np.sin(2 * np.pi * frequency * time)\n",
        "    return amplitude\n",
        "\n",
        "def amplifier(input_signal, gain):\n",
        "    amplified_signal = input_signal * gain\n",
        "    return amplified_signal\n",
        "\n",
        "# Generar la señal sinusoidal y la señal amplificada\n",
        "wave = generate_sine_wave(1, 5)\n",
        "amplified_wave = amplifier(wave, 2)\n",
        "\n",
        "# Grafique wave y amplified_wave aquí\n",
        "plt.figure(figsize=(6,4))\n"
      ]
    },
    {
      "cell_type": "markdown",
      "metadata": {
        "id": "AO47BfVaM6b3"
      },
      "source": [
        "**Ingrese aquí su respuesta al punto 2**"
      ]
    },
    {
      "cell_type": "markdown",
      "metadata": {
        "id": "6lbA_1dpM8K1"
      },
      "source": [
        "### Punto 3: Sistema de modulación AM"
      ]
    },
    {
      "cell_type": "code",
      "execution_count": null,
      "metadata": {
        "colab": {
          "base_uri": "https://localhost:8080/",
          "height": 565
        },
        "id": "IMpcsjOsMz6r",
        "outputId": "e5696cf9-ff76-4654-b7ce-26e1b8180a33"
      },
      "outputs": [],
      "source": [
        "import numpy as np\n",
        "import matplotlib.pyplot as plt\n",
        "\n",
        "def amplitude_modulation(carrier_signal, message_signal, modulation_index):\n",
        "    modulated_signal = (1 + modulation_index * message_signal) * carrier_signal\n",
        "    return modulated_signal\n",
        "\n",
        "# Generar las señales\n",
        "t = np.linspace(0, 1, num=1000)\n",
        "carrier_signal = np.cos(2 * np.pi * 10 * t)  # Señal portadora (cos(2πfct))\n",
        "message_signal = np.sin(2 * np.pi * 2 * t)   # Señal de mensaje (sin(2πfmt))\n",
        "modulation_index = 0.5\n",
        "\n",
        "modulated_signal = amplitude_modulation(carrier_signal, message_signal, modulation_index)\n",
        "\n",
        "# Configurar la figura y los ejes\n",
        "plt.figure(figsize=(6, 4))\n",
        "plt.title(\"Modulación de Amplitud (AM)\")\n",
        "plt.xlabel(\"Tiempo\")\n",
        "plt.ylabel(\"Amplitud\")\n",
        "\n",
        "# Graficar las señales\n",
        "plt.plot(t, message_signal, label=\"Señal de mensaje\")\n",
        "plt.plot(t, modulated_signal, label=\"Señal modulada\")\n",
        "\n",
        "# Mostrar la leyenda y la gráfica\n",
        "plt.legend()\n",
        "plt.show()\n",
        "\n"
      ]
    },
    {
      "cell_type": "markdown",
      "metadata": {
        "id": "z-KoPpLZNHSg"
      },
      "source": [
        "**Ingrese aquí su respuesta al punto 3**"
      ]
    },
    {
      "cell_type": "markdown",
      "metadata": {
        "id": "dzLmwEShNPH2"
      },
      "source": [
        "### Punto 4: Sistema de suavizado exponencial"
      ]
    },
    {
      "cell_type": "code",
      "execution_count": null,
      "metadata": {
        "id": "3Br9g07bNEJm"
      },
      "outputs": [],
      "source": [
        "def exponential_smoothing(sequence, smoothing_factor):\n",
        "    smoothed_sequence = [sequence[0]]  # Inicializar con el primer valor\n",
        "    for i in range(1, len(sequence)):\n",
        "        smoothed_value = smoothing_factor * sequence[i] + (1 - smoothing_factor) * smoothed_sequence[i - 1]\n",
        "        smoothed_sequence.append(smoothed_value)\n",
        "    return smoothed_sequence\n",
        "\n",
        "# Ingrese los parámetros a la función aquí\n"
      ]
    },
    {
      "cell_type": "markdown",
      "metadata": {
        "id": "O4LsIjWGOc6W"
      },
      "source": [
        "**Ingrese aquí su respuesta al punto 4**"
      ]
    },
    {
      "cell_type": "markdown",
      "metadata": {
        "id": "uEAAdZxhOgmK"
      },
      "source": [
        "### Punto 5: Sistema de suma acumulativa"
      ]
    },
    {
      "cell_type": "code",
      "execution_count": null,
      "metadata": {
        "id": "o2AyE9MSOb7s"
      },
      "outputs": [],
      "source": [
        "def cumulative_sum(sequence):\n",
        "    cumulative_sequence = [sequence[0]]  # Inicializar con el primer valor\n",
        "    for i in range(1, len(sequence)):\n",
        "        cumulative_value = cumulative_sequence[i - 1] + sequence[i]\n",
        "        cumulative_sequence.append(cumulative_value)\n",
        "    return cumulative_sequence\n",
        "\n",
        "# Ejemplo de uso\n",
        "numbers = [1, 2, 3, 4, 5]\n",
        "cumulative_numbers = cumulative_sum(numbers)\n",
        "print(cumulative_numbers)\n"
      ]
    },
    {
      "cell_type": "markdown",
      "metadata": {
        "id": "NiQDZpuvOm32"
      },
      "source": [
        "**Ingrese aquí su respuesta al punto 5**"
      ]
    },
    {
      "cell_type": "markdown",
      "metadata": {
        "id": "gnyNyckd5CMf"
      },
      "source": [
        "## Linealidad e Invarianza\n"
      ]
    },
    {
      "cell_type": "code",
      "execution_count": null,
      "metadata": {},
      "outputs": [],
      "source": [
        "# definición de función para un sistema arbitrario\n",
        "import numpy as np\n",
        "import matplotlib.pyplot as plt\n",
        "\n",
        "def sistema(input_signal):\n",
        "    output_signal = 2 * input_signal + 3\n",
        "    return output_signal\n"
      ]
    },
    {
      "cell_type": "markdown",
      "metadata": {},
      "source": [
        "### Punto 6: Linealidad"
      ]
    },
    {
      "cell_type": "code",
      "execution_count": null,
      "metadata": {
        "id": "7N9MRRZGt4j1"
      },
      "outputs": [],
      "source": [
        "# Generar una señal de entrada constante\n",
        "t = np.linspace(0,5,1000) \n",
        "input_signal_1 = 2*np.ones(len(t))\n",
        "input_signal_2 = \n",
        "\n",
        "# Obtener la señal de salida\n",
        "\n",
        "\n",
        "# Graficar las señales de entrada y salida\n",
        "plt.figure(figsize=(6,4))\n"
      ]
    },
    {
      "cell_type": "code",
      "execution_count": null,
      "metadata": {},
      "outputs": [],
      "source": [
        "# Ahora la señal de entrada es igual a la suma de las dos entradas anteriores\n",
        "input_signal_3 = \n",
        "output_signal_3 = \n",
        "\n",
        "# Graficar las señales de entrada y salida\n",
        "plt.figure(figsize=(6,4))"
      ]
    },
    {
      "cell_type": "markdown",
      "metadata": {},
      "source": [
        "**Con el procedimiento anterior indique si el sistema es lineal o no. Justifique su respuesta**"
      ]
    },
    {
      "cell_type": "markdown",
      "metadata": {
        "id": "961BrMDBuJMh"
      },
      "source": [
        "### Punto 7: Invariancia en el tiempo"
      ]
    },
    {
      "cell_type": "code",
      "execution_count": null,
      "metadata": {
        "id": "epG44iRZuASZ"
      },
      "outputs": [],
      "source": [
        "# Aplicar la señal desplazada en el tiempo al sistema\n",
        "t = np.linspace(0,2,1000)\n",
        "\n",
        "f = # Frecuencia de la señal\n",
        "t0 = # Desplazamiento en el tiempo\n",
        "\n",
        "input_signal_4 = np.sin(2*np.pi*f*(t-t0)) # Señal desplazada en el tiempo\n",
        "output_signal = sistema(input_signal_4) # Señal de salida obtenida\n",
        "\n",
        "output_shifted = 2*np.sin(2*np.pi*f*(t-t0)) + 3 # Señal de salida esperada\n",
        "\n",
        "# Graficar  la entrada desplazada en el tiempo, la señal de salida obtenida para esta señal y la señal de salida esperada\n",
        "plt.figure(figsize=(6,4))\n"
      ]
    },
    {
      "cell_type": "markdown",
      "metadata": {},
      "source": [
        "**Con el procedimiento anterior indique si el sistema es inivariante en el tiempo o no. Justifique su respuesta** "
      ]
    }
  ],
  "metadata": {
    "colab": {
      "provenance": []
    },
    "kernelspec": {
      "display_name": "signals",
      "language": "python",
      "name": "python3"
    },
    "language_info": {
      "codemirror_mode": {
        "name": "ipython",
        "version": 3
      },
      "file_extension": ".py",
      "mimetype": "text/x-python",
      "name": "python",
      "nbconvert_exporter": "python",
      "pygments_lexer": "ipython3",
      "version": "3.12.4"
    }
  },
  "nbformat": 4,
  "nbformat_minor": 0
}
